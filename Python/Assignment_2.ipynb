{
  "nbformat": 4,
  "nbformat_minor": 0,
  "metadata": {
    "colab": {
      "name": "Assignment 2.ipynb",
      "provenance": []
    },
    "kernelspec": {
      "name": "python3",
      "display_name": "Python 3"
    },
    "language_info": {
      "name": "python"
    }
  },
  "cells": [
    {
      "cell_type": "markdown",
      "metadata": {
        "id": "i9FvkTbhXotR"
      },
      "source": [
        "**Importing Random**"
      ]
    },
    {
      "cell_type": "code",
      "metadata": {
        "colab": {
          "base_uri": "https://localhost:8080/"
        },
        "id": "2zdLkD_oXnuo",
        "outputId": "f7d790e3-1407-41a2-ffb3-b081cf1a6e2d"
      },
      "source": [
        "print(\"\\n*****************************************\\n\")\n",
        "print(\"WELCOME TO THE LOTTERY \")\n",
        "print(\"\\n*****************************************\\n\")\n",
        "\n",
        "import time\n",
        "import random\n",
        "max_participants = int(input(\"No of Tickets Available : \"))\n",
        "participant_names = [] \n",
        "for i in range (max_participants):\n",
        "  entry_names = input(\"\\nEnter name of the participant : \")\n",
        "  participant_names.append(entry_names)\n",
        "time.sleep(1)\n",
        "print(\"\\nThe participant Names :\", participant_names)\n",
        "winner = participant_names[random.randint(0, max_participants - 1)]\n",
        "time.sleep(1.5)\n",
        "\n",
        "print(\"\\n-----------------------------------------\")\n",
        "print(\"\\nThe Lucky Winner Is : \", winner)\n",
        "print(\"\\n-----------------------------------------\")"
      ],
      "execution_count": 44,
      "outputs": [
        {
          "output_type": "stream",
          "text": [
            "\n",
            "*****************************************\n",
            "\n",
            "WELCOME TO THE LOTTERY \n",
            "\n",
            "*****************************************\n",
            "\n",
            "No of Tickets Available : 5\n",
            "\n",
            "Enter name of the participant : Ram\n",
            "\n",
            "Enter name of the participant : Sam\n",
            "\n",
            "Enter name of the participant : Joseph\n",
            "\n",
            "Enter name of the participant : Vijay\n",
            "\n",
            "Enter name of the participant : Afsar\n",
            "\n",
            "The participant Names : ['Ram', 'Sam', 'Joseph', 'Vijay', 'Afsar']\n",
            "\n",
            "-----------------------------------------\n",
            "\n",
            "The Lucky Winner Is :  Afsar\n",
            "\n",
            "-----------------------------------------\n"
          ],
          "name": "stdout"
        }
      ]
    }
  ]
}
