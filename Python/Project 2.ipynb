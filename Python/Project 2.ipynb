
Colab link
https://colab.research.google.com/drive/1eYv9PUy-
gpNIZzHyhG5u3K-YADcpc829#scrollTo=qXZVtmPjX5gk

city = input('Enter your city: ')

#To customize the input as from the default link from OWM API , added format option inside it.
url = 'https://api.openweathermap.org/data/2.5/weather?q={}&appid=7de67d130997a582012150ddd4dfdbc6' .format(city)

#Getting data from the OWM server
res = requests.get(url)

#Optimizing the data from json to output terminal
data = res.json()

print(res)
#using pprint for a organised output from json file from the Web.
pprint(data)

[3]
#importing request module
import requests

#imorting pprint module for neat explaination
from pprint import pprint
[4]
city = input('Enter your city: ')

#To customize the input as from the default link from OWM API , added format option inside it.
url = 'https://api.openweathermap.org/data/2.5/weather?q={}&appid=7de67d130997a582012150ddd4dfdbc6' .format(city)

#Getting data from the OWM server
res = requests.get(url)

#Optimizing the data from json to output terminal
data = res.json()

print(res)
#using pprint for a organised output from json file from the Web.
pprint(data)
Enter your city: Tumkur
<Response [200]>
{'base': 'stations',
 'clouds': {'all': 100},
 'cod': 200,
 'coord': {'lat': 13.3422, 'lon': 77.1017},
 'dt': 1625785666,
 'id': 1254089,
 'main': {'feels_like': 296.34,
          'grnd_level': 916,
          'humidity': 88,
          'pressure': 1006,
          'sea_level': 1006,
          'temp': 295.73,
          'temp_max': 295.73,
          'temp_min': 295.73},
 'name': 'Tumkūr',
 'rain': {'1h': 3.65},
 'sys': {'country': 'IN',
         'id': 9208,
         'sunrise': 1625790629,
         'sunset': 1625836962,
         'type': 1},
 'timezone': 19800,
 'visibility': 10000,
 'weather': [{'description': 'moderate rain',
              'icon': '10n',
              'id': 501,
              'main': 'Rain'}],
 'wind': {'deg': 266, 'gust': 6.99, 
